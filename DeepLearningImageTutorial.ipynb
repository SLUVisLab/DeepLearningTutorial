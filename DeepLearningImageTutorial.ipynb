{
  "nbformat": 4,
  "nbformat_minor": 0,
  "metadata": {
    "colab": {
      "name": "DeepLearningImageTutorial.ipynb",
      "provenance": [],
      "collapsed_sections": []
    },
    "kernelspec": {
      "name": "python3",
      "display_name": "Python 3"
    }
  },
  "cells": [
    {
      "cell_type": "markdown",
      "metadata": {
        "id": "Itz4yPUNsXmb"
      },
      "source": [
        "<h1> AI@SLU Tutorial: Deep Learning to Understand Images</h1>\n",
        "\n",
        "Welcome to the world's fastest deep dive into deep convolutional neural networks! There are going to be a huge number of specifics in this code that we don't have time to discuss in much depth. If you're interested in the subject matter, I encourage you to sign up for Deep Learning in the Spring, where we'll spend a whole semester on these types of topics!"
      ]
    },
    {
      "cell_type": "markdown",
      "metadata": {
        "id": "6F2xxM1ysnxQ"
      },
      "source": [
        "\n",
        "\n",
        "---\n",
        "\n"
      ]
    },
    {
      "cell_type": "markdown",
      "metadata": {
        "id": "4qECbtcxrxtA"
      },
      "source": [
        "Start off with lots of imports!\n",
        "\n",
        "We are going to be using the PyTorch Deep Learning Framework (all the imports with \"torch\" in them)."
      ]
    },
    {
      "cell_type": "code",
      "metadata": {
        "id": "NgVr3FyMHio_"
      },
      "source": [
        "%matplotlib inline\n",
        "import torch\n",
        "import torchvision\n",
        "import torchvision.transforms as transforms\n",
        "import matplotlib.pyplot as plt\n",
        "import numpy as np\n",
        "import torchvision.models as models\n",
        "import torch.nn as nn\n",
        "import torch.optim as optim\n",
        "import torch.nn.functional as F\n",
        "from PIL import Image\n",
        "import warnings\n",
        "warnings.filterwarnings(\"ignore\")"
      ],
      "execution_count": null,
      "outputs": []
    },
    {
      "cell_type": "markdown",
      "metadata": {
        "id": "gVUtFLUSsKCR"
      },
      "source": [
        "\n",
        "---\n",
        "\n",
        "<h2> Defining the Neural Net Class </h2>\n",
        "\n",
        "Define the neural network, including how many and what type of layers, and what happens to an actual input on the forward pass through the network:"
      ]
    },
    {
      "cell_type": "code",
      "metadata": {
        "id": "rBOPQFDkIliJ"
      },
      "source": [
        "class Net(nn.Module):\n",
        "    def __init__(self):\n",
        "        super(Net, self).__init__()\n",
        "        self.conv1 = nn.Conv2d(1, 10, kernel_size=5)\n",
        "        self.conv2 = nn.Conv2d(10, 20, kernel_size=5)\n",
        "        self.avgpool = nn.AdaptiveAvgPool2d((1, 1))\n",
        "        self.fc1 = nn.Linear(20, 10) # our output has 10 features -- 1 for each digit\n",
        "    \n",
        "    def forward(self, x):\n",
        "        x = F.relu(F.max_pool2d(self.conv1(x), 2))\n",
        "        x = self.conv2(x)\n",
        "        x = self.avgpool(x)\n",
        "        x = x.view(-1, 20)\n",
        "        x = self.fc1(x)\n",
        "        return F.log_softmax(x)"
      ],
      "execution_count": null,
      "outputs": []
    },
    {
      "cell_type": "markdown",
      "metadata": {
        "id": "AUngT_yjsD2p"
      },
      "source": [
        "Create our own instance of this neural net:"
      ]
    },
    {
      "cell_type": "code",
      "metadata": {
        "id": "jWYOmQMcs0_P"
      },
      "source": [
        "net = Net()"
      ],
      "execution_count": null,
      "outputs": []
    },
    {
      "cell_type": "markdown",
      "metadata": {
        "id": "pbdDCBJktDlo"
      },
      "source": [
        "*For what it's worth, in any real world use case I would **highly highly highly highly** recommend using some of off the shelf neural network architecture and focus your time on questions like \"how can I get more or better data?\", \"what are the right data pre-processing steps?\" and \"what is the right loss function?\"*\n",
        "\n",
        "<h2> Loss Function & Optimizer </h2>\n",
        "\n",
        "Define our \"criterion\" (or loss function) and our \"optimizer\":\n",
        "\n",
        "* the criterion or loss function is the precise mathematical equation to compute \"how wrong is my current network relative to my ground truth labels\" (cross entropy loss is the standard for classification problems like \"is this picture a dog, cat or camel?\")\n",
        "* the optimizer is the algorithm that actually determines how much to change your network each iteration *based* on the criterion"
      ]
    },
    {
      "cell_type": "code",
      "metadata": {
        "id": "QbngU2wOs8Qw"
      },
      "source": [
        "criterion = nn.CrossEntropyLoss()\n",
        "\n",
        "learning_rate = 0.001\n",
        "optimizer = optim.Adam(net.parameters(), lr=learning_rate)"
      ],
      "execution_count": null,
      "outputs": []
    },
    {
      "cell_type": "markdown",
      "metadata": {
        "id": "ClbhFCkVtnB2"
      },
      "source": [
        "\n",
        "---\n",
        "\n",
        "<h2> Loading Data </h2>\n",
        "\n",
        "Okay, so we have our model now, but we don't have any data!\n",
        "\n",
        "First, we're going to tell PyTorch what to do when it gets data -- specifically to convert it to a \"tensor\" and then subtract off the mean and divide by the standard deviation (which for convenience we're just setting to 0.5 here)."
      ]
    },
    {
      "cell_type": "code",
      "metadata": {
        "id": "VcGp7-kBIP7u"
      },
      "source": [
        "transform = transforms.Compose([\n",
        "     transforms.ToTensor(),\n",
        "     transforms.Normalize((0.5), (0.5))])"
      ],
      "execution_count": null,
      "outputs": []
    },
    {
      "cell_type": "markdown",
      "metadata": {
        "id": "MCjrA_Lvt7uI"
      },
      "source": [
        "Lots of nice people have saved us from having to do the real work of organizing datasets, so we can create our training and testing datasets of handwritten digits by just calling torchvision.datasets.MNIST.\n",
        "\n",
        "*(PyTorch has lots of already implemented datasets like this, as well as dataset objects that work with your own data on your own computer or server. My most commonly used data loading process is to use torchvision.datasets.ImageFolder to load images from a folder on my server.)*"
      ]
    },
    {
      "cell_type": "code",
      "metadata": {
        "id": "2Cg6STsIIJYh"
      },
      "source": [
        "trainset = torchvision.datasets.MNIST(root='./data', train=True,\n",
        "                                        download=True, transform=transform)\n",
        "testset = torchvision.datasets.MNIST(root='./data', train=False,\n",
        "                                       download=True, transform=transform)"
      ],
      "execution_count": null,
      "outputs": []
    },
    {
      "cell_type": "markdown",
      "metadata": {
        "id": "JR00KMQduMCr"
      },
      "source": [
        "In addition to the data *set* we also need data *loaders* -- programs that tell us exactly how to load our images into batches that get fed through the neural network."
      ]
    },
    {
      "cell_type": "code",
      "metadata": {
        "id": "fU3MPkE2uLci"
      },
      "source": [
        "batch_size = 4 # the number of images that get pushed through the network at a time\n",
        "\n",
        "trainloader = torch.utils.data.DataLoader(trainset, batch_size=batch_size,shuffle=True)\n",
        "testloader = torch.utils.data.DataLoader(testset, batch_size=batch_size,shuffle=False)"
      ],
      "execution_count": null,
      "outputs": []
    },
    {
      "cell_type": "markdown",
      "metadata": {
        "id": "qHVbIGFlvEiK"
      },
      "source": [
        "\n",
        "\n",
        "So what does our data actually look like??\n"
      ]
    },
    {
      "cell_type": "code",
      "metadata": {
        "id": "3YGoFfLrIVE3"
      },
      "source": [
        "def imshow(img):\n",
        "    img = img / 2 + 0.5     # unnormalize\n",
        "    npimg = img.numpy() # convert the image to numpy\n",
        "    plt.imshow(np.transpose(npimg, (1, 2, 0))) # pytorch has the channels of the image organized differently than matplotlib expects so flip them around\n",
        "\n",
        "# get a random training batch\n",
        "dataiter = iter(trainloader)\n",
        "images, labels = dataiter.next()\n",
        "\n",
        "# show images\n",
        "print(labels)\n",
        "imshow(torchvision.utils.make_grid(images))"
      ],
      "execution_count": null,
      "outputs": []
    },
    {
      "cell_type": "markdown",
      "metadata": {
        "id": "VjFYBENVvP-K"
      },
      "source": [
        "\n",
        "---\n",
        "\n",
        "<h2> Training the Network </h2>\n",
        "\n",
        "Now that we have our network and data, it's time to train!\n",
        "\n",
        "\n"
      ]
    },
    {
      "cell_type": "code",
      "metadata": {
        "id": "_pt8vs4dJDMD"
      },
      "source": [
        "# loop over the dataset multiple times\n",
        "for epoch in range(2):\n",
        "\n",
        "    # keep track of our loss (error) over a number of batches so we can track how we're doing\n",
        "    running_loss = 0.0\n",
        "\n",
        "    # loop over each batch in our training dataset\n",
        "    for i, data in enumerate(trainloader, 0):\n",
        "        # get the inputs\n",
        "        inputs, labels = data\n",
        "\n",
        "        # zero the parameter gradients\n",
        "        optimizer.zero_grad()\n",
        "\n",
        "        # forward\n",
        "        outputs = net(inputs)\n",
        "\n",
        "        # compute loss\n",
        "        loss = criterion(outputs, labels)\n",
        "\n",
        "        # backpropogate based on loss\n",
        "        loss.backward()\n",
        "        optimizer.step()\n",
        "\n",
        "        # print statistics\n",
        "        running_loss += loss.item()\n",
        "        if i % 1000 == 999:    # print every 1000 mini-batches\n",
        "            print('[%d, %5d] loss: %.3f' %\n",
        "                  (epoch + 1, i + 1, running_loss / 1000))\n",
        "            running_loss = 0.0\n",
        "\n",
        "print('Finished Training')"
      ],
      "execution_count": null,
      "outputs": []
    },
    {
      "cell_type": "markdown",
      "metadata": {
        "id": "fSbrW-pSxlUq"
      },
      "source": [
        "\n",
        "\n",
        "---\n",
        "\n",
        "<h2> Evaluation </h2>\n",
        "\n",
        "Once we've trained, we want to see how well we're doing.\n",
        "\n",
        "First, let's load just a single batch of images and see how it looks:"
      ]
    },
    {
      "cell_type": "code",
      "metadata": {
        "id": "1noXlDSTt6qU"
      },
      "source": [
        "# put the network into \"eval\" mode (not training)\n",
        "net.eval()\n",
        "\n",
        "with torch.no_grad(): # have to set no_grad() in addition to setting eval mode\n",
        "    # load a single batch from the test loader\n",
        "    dataiter = iter(testloader)\n",
        "    images, labels = dataiter.next()\n",
        "\n",
        "    # pass the batch through the network and get the outputs\n",
        "    outputs = net(images)\n",
        "\n",
        "    # the predicted class is the argmax of the outputs (sometimes passing through a softmax first)\n",
        "    _, predicted = torch.max(outputs, 1)\n",
        "\n",
        "# Show the images that were passed through and their predicted class\n",
        "imshow(torchvision.utils.make_grid(images))\n",
        "print(predicted)"
      ],
      "execution_count": null,
      "outputs": []
    },
    {
      "cell_type": "markdown",
      "metadata": {
        "id": "4NgcUvWcyClW"
      },
      "source": [
        "We can do the same thing for the entire test dataset, keeping track of our test accuracy:"
      ]
    },
    {
      "cell_type": "code",
      "metadata": {
        "id": "L_VcB3bgt9T1"
      },
      "source": [
        "correct = 0\n",
        "total = 0\n",
        "\n",
        "with torch.no_grad(): # have to set no_grad() in addition to setting eval mode\n",
        "    # loop over the test data\n",
        "    for data in testloader:\n",
        "        images, labels = data\n",
        "        \n",
        "        # pass the batch through the network and get the outputs\n",
        "        outputs = net(images)\n",
        "        \n",
        "        # the predicted class is the argmax of the outputs (sometimes passing through a softmax first)\n",
        "        _, predicted = torch.max(outputs.data, 1)\n",
        "\n",
        "        # keep track of how many we're getting right\n",
        "        total += labels.size(0)\n",
        "        correct += (predicted == labels).sum().item()\n",
        "\n",
        "print('Accuracy of the network on the 10000 test images: %d %%' % (\n",
        "    100 * correct / total))"
      ],
      "execution_count": null,
      "outputs": []
    },
    {
      "cell_type": "markdown",
      "metadata": {
        "id": "FRFwBFFbw57J"
      },
      "source": [
        "\n",
        "\n",
        "---\n",
        "<h2> Visual Explainability: Class Activation Mapping </h2>\n",
        "\n",
        "\n",
        "It's exciting that we have a simple neural network that performs over 9x better than random chance!\n",
        "\n",
        "What if we want to understand what exactly the network is \"looking at\" when it makes its prediction?\n",
        "\n"
      ]
    },
    {
      "cell_type": "markdown",
      "metadata": {
        "id": "HBXi7cZVwCwq"
      },
      "source": [
        "![framework.jpg](data:image/jpeg;base64,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)"
      ]
    },
    {
      "cell_type": "code",
      "metadata": {
        "id": "SF-hKuyex30V"
      },
      "source": [
        "def returnCAM(last_conv_features, weights, predicted_class):\n",
        "    # keep track of the dimensions of our last convolutional layer\n",
        "    num_channels, height, width = last_conv_features.shape\n",
        "\n",
        "    # take the dot product of the last convolutional layer with the weights that\n",
        "    # \"connect\" them to the predicted class\n",
        "    cam = weights[predicted_class].dot(last_conv_features.reshape((num_channels, height*width)))\n",
        "\n",
        "    # reshape into an image\n",
        "    cam = cam.reshape(height, width)\n",
        "\n",
        "    # normalize to have a min of 0 and a max of 1\n",
        "    cam = cam - np.min(cam)\n",
        "    cam_img = cam / np.max(cam)\n",
        "    \n",
        "    # convert to uint8s (0-255)\n",
        "    cam_img = np.uint8(255. * cam_img)\n",
        "    return cam_img"
      ],
      "execution_count": null,
      "outputs": []
    },
    {
      "cell_type": "code",
      "metadata": {
        "id": "sW9A1zWWkrzZ"
      },
      "source": [
        "# in order to make our class activation map, we need to get those weights \n",
        "# between the last convolutional layer and the output\n",
        "\n",
        "params = list(net.parameters())\n",
        "weights = np.squeeze(params[-2].cpu().data.numpy())"
      ],
      "execution_count": null,
      "outputs": []
    },
    {
      "cell_type": "code",
      "metadata": {
        "id": "SMKOdycRk2ro"
      },
      "source": [
        "# loop over out test data again\n",
        "with torch.no_grad():\n",
        "    for data in testloader:\n",
        "\n",
        "        # create a \"hook\" to grab the activations of the last conv layer\n",
        "        feature_blobs = []\n",
        "        def hook_feature(module, input, output):\n",
        "            data_out = output.cpu().data.numpy()\n",
        "            feature_blobs.append(data_out)\n",
        "        hook = net.conv2.register_forward_hook(hook_feature)\n",
        "\n",
        "        # when we push the batch through the network, the \"hook\" will put the\n",
        "        # activations of the last conv layer in feature_blobs\n",
        "        images, labels = data\n",
        "        outputs = net(images)\n",
        "\n",
        "        # make the predictions\n",
        "        _, predicted = torch.max(outputs.data, 1)\n",
        "        \n",
        "        # remove the hook\n",
        "        hook.remove()\n",
        "        \n",
        "        # loop over each image in the batch\n",
        "        for fb, im, p in zip(feature_blobs[0], images, predicted):\n",
        "            # create the class activation map for the predicted class\n",
        "            # or \"why did the network think it was the class it predicted\"\n",
        "            cam = returnCAM(fb, weights, p)\n",
        "\n",
        "            # convert the image back into something that looks like an image\n",
        "            pixel_vals = np.squeeze(im.detach().cpu().numpy())\n",
        "            pixel_vals = pixel_vals * 0.5 + 0.5 # undo the normalization\n",
        "            pixel_vals *= 255. # PIL expects images between 0 and 255\n",
        "            rgb = np.dstack((pixel_vals, pixel_vals, pixel_vals))\n",
        "            img = Image.fromarray(rgb.astype('uint8'))\n",
        "            img = img.resize((256,256))\n",
        "            \n",
        "            # convert the class activation map to a heatmap\n",
        "            cm = plt.get_cmap('jet')\n",
        "            colored_overlay = cm(cam)\n",
        "            colored_overlay = (colored_overlay * 255).astype('uint8')[:,:,:3]\n",
        "            overlay = Image.fromarray(colored_overlay)\n",
        "            overlay = overlay.resize((256,256), Image.NEAREST)\n",
        "\n",
        "            # combine the image and the heatmap\n",
        "            result = np.array(overlay) * 0.3 + np.array(img) * 0.7\n",
        "\n",
        "            # make a figure\n",
        "            plt.imshow(Image.fromarray(result.astype('uint8')))\n",
        "            title_str = 'Predicted: %s' % (p.detach())\n",
        "            plt.title(title_str)\n",
        "            plt.show()"
      ],
      "execution_count": null,
      "outputs": []
    }
  ]
}